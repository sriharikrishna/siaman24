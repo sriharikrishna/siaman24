{
  "nbformat": 4,
  "nbformat_minor": 0,
  "metadata": {
    "colab": {
      "name": "perftest.ipynb",
      "provenance": [],
      "include_colab_link": true
    },
    "kernelspec": {
      "name": "python3",
      "display_name": "Python 3"
    }
  },
  "cells": [
    {
      "cell_type": "markdown",
      "metadata": {
        "id": "view-in-github",
        "colab_type": "text"
      },
      "source": [
        "<a href=\"https://colab.research.google.com/github/sriharikrishna/siaman24/blob/main/perftest.ipynb\" target=\"_parent\"><img src=\"https://colab.research.google.com/assets/colab-badge.svg\" alt=\"Open In Colab\"/></a>"
      ]
    },
    {
      "cell_type": "markdown",
      "metadata": {
        "id": "VIP0_7_N7WHH"
      },
      "source": [
        "# Tapenade mini benchmark\n",
        "\n",
        "In this notebook we differentiate a small function with Tapenade in forward and reverse mode, then measure the run time of the obtained functions.\n",
        "\n",
        "We use [Tapenade](http://tapenade.inria.fr:8080) and C for this. Apologies if the syntax highlighting for C is not perfect."
      ]
    },
    {
      "cell_type": "markdown",
      "metadata": {
        "id": "25-Q_JM_7yAY"
      },
      "source": [
        "## Input function\n",
        "\n",
        "This is a simple function that takes an input vector of size `n` and produces an output vector of size `m`. It performs a somewhat arbitrary computation internally."
      ]
    },
    {
      "cell_type": "code",
      "metadata": {
        "id": "QWeq9Bbmwled"
      },
      "source": [
        "%%writefile fun.c\n",
        "\n",
        "void fun(int n, float a[n], int m, float b[m]) {\n",
        "  float sum = 0.0;\n",
        "  for(int i=0; i<n; i++) {\n",
        "    sum += a[i]*a[i];\n",
        "  }\n",
        "  for(int i=0; i<m; i++) {\n",
        "    b[i] = sum*i;\n",
        "  }\n",
        "}"
      ],
      "execution_count": null,
      "outputs": []
    },
    {
      "cell_type": "markdown",
      "metadata": {
        "id": "liT9q_JY8AVc"
      },
      "source": [
        "## Forward Mode AD\n",
        "\n",
        "This is the result of applying Tapenade in forward mode to the function above, choosing `a` as independent input and `b` as dependent output. If you modify the function, you will have to manually run Tapenade (through the command line or web interface), as this step is not integrated in this notebook."
      ]
    },
    {
      "cell_type": "code",
      "metadata": {
        "id": "UbEgBC9e6CT3"
      },
      "source": [
        "%%writefile fun_d.c\n",
        "\n",
        "## TODO: INSERT FORWARD DIFFERENTIATED CODE HERE"
      ],
      "execution_count": null,
      "outputs": []
    },
    {
      "cell_type": "markdown",
      "metadata": {
        "id": "3pUyZBnA8S54"
      },
      "source": [
        "## Reverse Mode AD\n",
        "\n",
        "This is the result of applying Tapenade in reverse mode to the function above, again choosing `a` as independent input and `b` as dependent output. If you run Tapenade and it generates code that uses the AD run time library (for example, it calls `pushInteger4(...)` or similar functions), then you will need to obtain the ADFirstAidKit from the Tapenade website, which contains these functions. You may not be able to use this within this notebook."
      ]
    },
    {
      "cell_type": "code",
      "metadata": {
        "id": "buo9Iq_c6Jty"
      },
      "source": [
        "%%writefile fun_b.c\n",
        "\n",
        "## TODO: INSERT REVERSE DIFFERENTIATED CODE HERE"
      ],
      "execution_count": null,
      "outputs": []
    },
    {
      "cell_type": "markdown",
      "metadata": {
        "id": "xsRFIT918yCm"
      },
      "source": [
        "## Driver\n",
        "\n",
        "This driver takes the problem sizes from the terminal input, sets up the input and output vectors, and calls the function and its derivatives while measuring the time taken. It assembles the full Jacobian matrix of the function by seeding with the full set of cartesian basis vectors. You probably do not need to modify the driver."
      ]
    },
    {
      "cell_type": "code",
      "metadata": {
        "id": "DIwIMzNy6mC2"
      },
      "source": [
        "%%writefile driver.c\n",
        "\n",
        "#include <time.h>\n",
        "#include <stdio.h>\n",
        "#include <stdlib.h>\n",
        "\n",
        "void fun(int n, float a[n], int m, float b[m]);\n",
        "void fun_d(int n, float a[n], float ad[n], int m, float b[m], float bd[m]);\n",
        "void fun_b(int n, float a[n], float ab[n], int m, float b[m], float bb[m]);\n",
        "\n",
        "int main(int argc, char** argv) {\n",
        "  /*\n",
        "  Problem setup. Get input/output size, allocate memory, etc.\n",
        "  */\n",
        "  if(argc < 3) {\n",
        "    printf(\"Usage: driver <num_inputs> <num_outputs>\");\n",
        "    return -1;\n",
        "  }\n",
        "  int n = atoi(argv[1]);\n",
        "  int m = atoi(argv[2]);\n",
        "  printf(\"===============================================\\n\");\n",
        "  printf(\"Running function with %d inputs and %d outputs.\\n\",n,m);\n",
        "  float* a = (float*)malloc(n*sizeof(float));\n",
        "  float* a_seed = (float*)malloc(n*sizeof(float));\n",
        "  for(int i=0; i<n; i++) {\n",
        "    a[i] = (float)i;\n",
        "    a_seed[i] = 0;\n",
        "  }\n",
        "  float* b = (float*)malloc(m*sizeof(float));\n",
        "  float* b_seed = (float*)malloc(m*sizeof(float));\n",
        "  for(int i=0; i<m; i++) {\n",
        "    b_seed[i] = 0;\n",
        "  }\n",
        "  float* J_fwd = (float*)malloc(n*m*sizeof(float));\n",
        "  float* J_rev = (float*)malloc(n*m*sizeof(float));\n",
        "  clock_t tic, toc;\n",
        "  double primaltime, difftime;\n",
        "\n",
        "  /*\n",
        "  Run the primal function and time it\n",
        "  */\n",
        "  tic = clock();\n",
        "  fun(n, a, m, b);\n",
        "  toc = clock() - tic;\n",
        "  primaltime = (double)toc / (double)CLOCKS_PER_SEC;\n",
        "  printf(\"primal time: %f\\n\", primaltime);\n",
        "\n",
        "  printf(\"\\nComputing one row/column of Jacobian:\\n\");\n",
        "  /*\n",
        "  Run the forward-mode once\n",
        "  */\n",
        "  tic = clock();\n",
        "  a_seed[0] = 1.0;\n",
        "  fun_d(n, a, a_seed, m, b, &J_fwd[0]);\n",
        "  a_seed[0] = 0.0;\n",
        "  toc = clock() - tic;\n",
        "  difftime = (double)toc / (double)CLOCKS_PER_SEC;\n",
        "  printf(\"forward Jv time: %f (factor: %f X)\\n\", difftime, difftime/primaltime);\n",
        "\n",
        "  /*\n",
        "  Run the reverse-mode once\n",
        "  */\n",
        "  tic = clock();\n",
        "  b_seed[0] = 1.0;\n",
        "  fun_b(n, a, &J_rev[0], m, b, b_seed);\n",
        "  b_seed[0] = 0.0;\n",
        "  toc = clock() - tic;\n",
        "  difftime = (double)toc / (double)CLOCKS_PER_SEC;\n",
        "  printf(\"reverse vJ time: %f (factor: %f X)\\n\", difftime, difftime/primaltime);\n",
        "\n",
        "  printf(\"\\nComputing the entire Jacobian:\\n\");\n",
        "  /*\n",
        "  Run the forward-mode n times (enough to obtain the entire Jacobian).\n",
        "  */\n",
        "  tic = clock();\n",
        "  for(int i=0; i<n; i++) {\n",
        "    a_seed[i] = 1.0;\n",
        "    fun_d(n, a, a_seed, m, b, &J_fwd[i*m]);\n",
        "    a_seed[i] = 0.0;\n",
        "  }\n",
        "  toc = clock() - tic;\n",
        "  difftime = (double)toc / (double)CLOCKS_PER_SEC;\n",
        "  printf(\"forward J time: %f (factor: %f X)\\n\", difftime, difftime/primaltime);\n",
        "\n",
        "  /*\n",
        "  Run the reverse-mode m times (enough to obtain the entire Jacobian).\n",
        "  */\n",
        "  tic = clock();\n",
        "  for(int i=0; i<m; i++) {\n",
        "    b_seed[i] = 1.0;\n",
        "    fun_b(n, a, &J_rev[i*n], m, b, b_seed);\n",
        "    b_seed[i] = 0.0;\n",
        "  }\n",
        "  toc = clock() - tic;\n",
        "  difftime = (double)toc / (double)CLOCKS_PER_SEC;\n",
        "  printf(\"reverse J time: %f (factor: %f X)\\n\", difftime, difftime/primaltime);\n",
        "\n",
        "  /*\n",
        "  Compare the computed Jacobians\n",
        "  */\n",
        "  for(int i=0; i<n; i++) {\n",
        "    for(int j=0; j<m; j++) {\n",
        "      if(J_fwd[i*m+j] != J_rev[j*n+i]) {\n",
        "        printf(\"Jacobian from fwd and rev does not match!: %f != %f\\n\", J_fwd[i*m+j], J_rev[j*n+i]);\n",
        "        return -1;\n",
        "      }\n",
        "    }\n",
        "  }\n",
        "  printf(\"Jacobian from fwd and rev matches!\\n\\n\");\n",
        "\n",
        "  free(a); free(b); free(a_seed); free(J_fwd); free(J_rev); free(b_seed);\n",
        "  return 0;\n",
        "}"
      ],
      "execution_count": null,
      "outputs": []
    },
    {
      "cell_type": "markdown",
      "metadata": {
        "id": "0xQ74Q-q3qO7"
      },
      "source": [
        "## Compile\n",
        "\n",
        "Compile our benchmark."
      ]
    },
    {
      "cell_type": "code",
      "metadata": {
        "id": "B9n10LP93rPs"
      },
      "source": [
        "%%script bash\n",
        "\n",
        "# if the AD runtime library is not yet loaded, download and compile it now.\n",
        "if [ ! -f ADFirstAidKit/adStack.h ]; then\n",
        "    wget tapenade.inria.fr:8080/tapenade/ADFirstAidKit.tar\n",
        "    tar vxf ADFirstAidKit.tar\n",
        "    (cd ADFirstAidKit && gcc -c -O3 -w adStack.c adContext.c && ar -crs libAD.a *.o)\n",
        "fi\n",
        "\n",
        "# finally, install\n",
        "gcc -O3 -I./ADFirstAidKit -L./ADFirstAidKit fun.c fun_d.c fun_b.c driver.c -lAD -o perftest"
      ],
      "execution_count": null,
      "outputs": []
    },
    {
      "cell_type": "markdown",
      "metadata": {
        "id": "03thh3fF9T2W"
      },
      "source": [
        "## Run\n",
        "\n",
        "Here we run the benchmark with just two settings: 1 input and 10000 outputs, and 10000 inputs and 1 output. This should highlight the differences between forward and reverse mode well."
      ]
    },
    {
      "cell_type": "code",
      "metadata": {
        "id": "OEq-jG8K6b8j"
      },
      "source": [
        "%%script bash\n",
        "\n",
        "./perftest 1 10000"
      ],
      "execution_count": null,
      "outputs": []
    },
    {
      "cell_type": "code",
      "metadata": {
        "id": "zyUe_5lbK6-Q"
      },
      "source": [
        "%%script bash\n",
        "\n",
        "./perftest 10000 1"
      ],
      "execution_count": null,
      "outputs": []
    },
    {
      "cell_type": "markdown",
      "metadata": {
        "id": "Hr7MWRtaEgZo"
      },
      "source": [
        "## Running the benchmark for a range of input and output sizes\n",
        "\n",
        "No need to understand this in detail. We loop over some input and output sizes, and filter the output of perftest to get only the overhead factors. We store all of them in `timings.txt`, which we will plot in the next field."
      ]
    },
    {
      "cell_type": "code",
      "metadata": {
        "id": "e9OVZnK4_zat"
      },
      "source": [
        "%%script bash\n",
        "echo \"\" > timings.txt\n",
        "for N_IN in 1 1000 2000 3000 4000 5000\n",
        "do\n",
        "  for N_OUT in 1 1000 2000 3000 4000 5000\n",
        "  do\n",
        "    OUTPUT=$(./perftest $N_IN $N_OUT)\n",
        "    TIME_FWD=$(grep \"forward J time\" <<< \"$OUTPUT\" | awk '{print $6}')\n",
        "    TIME_REV=$(grep \"reverse J time\" <<< \"$OUTPUT\" | awk '{print $6}')\n",
        "    echo \"$N_IN $N_OUT $TIME_FWD $TIME_REV\" >> timings.txt\n",
        "  done\n",
        "done\n",
        "\n",
        "wc -l timings.txt"
      ],
      "execution_count": null,
      "outputs": []
    },
    {
      "cell_type": "markdown",
      "metadata": {
        "id": "e4ouTnBoFSgu"
      },
      "source": [
        "## Plotting the time overhead factors\n",
        "We use Python for this. Read `timings.txt` and generate a plot."
      ]
    },
    {
      "cell_type": "code",
      "metadata": {
        "id": "ihBZ_jVYFbQJ"
      },
      "source": [
        "import numpy as np\n",
        "import matplotlib.pyplot as plt\n",
        "time_data = np.genfromtxt('timings.txt', delimiter=' ')\n",
        "\n",
        "n_vec = time_data[:,0]\n",
        "m_vec = time_data[:,1]\n",
        "fwd_time = time_data[:,2]\n",
        "rev_time = time_data[:,3]\n",
        "\n",
        "fig, (ax0,ax1) = plt.subplots(subplot_kw={\"projection\": \"3d\"}, nrows=1, ncols=2, figsize=(12,8), dpi= 100)\n",
        "for ax in (ax0,ax1):\n",
        "  ax.set_xlabel('#inputs')\n",
        "  ax.set_ylabel('#outputs')\n",
        "  ax.invert_yaxis()\n",
        "ax0.plot_trisurf(n_vec,m_vec,fwd_time)\n",
        "ax1.plot_trisurf(n_vec,m_vec,rev_time)\n",
        "ax0.title.set_text('forward mode overhead')\n",
        "ax1.title.set_text('reverse mode overhead')\n",
        "\n",
        "def plot_fun(ax, n_vals, m_vals, times, maxval, title=None):\n",
        "  # Plot the surface.\n",
        "  X, Y = np.meshgrid(list(n_vals.keys()), list(m_vals.keys()))\n",
        "  surf = ax.plot_surface(X, Y, times, cmap=cm.coolwarm,\n",
        "                        antialiased=True)\n",
        "  # Customize the z  axis.\n",
        "  ax.set_zlim(0, maxval*1.1)\n",
        "\n",
        "  coordsn = list(n_vals.keys())\n",
        "  ax.set_xticks(coordsn, [\"$4^{:d}$\".format(i) for i in coordsn])\n",
        "\n",
        "  coordsm = list(m_vals.keys())\n",
        "  ax.set_yticks(coordsm, [\"$4^{:d}$\".format(i) for i in coordsm])\n",
        "\n",
        "  ax.invert_yaxis()\n",
        "\n",
        "  ax.title.set_text(title)\n",
        "  ax.set_xlabel('#inputs')\n",
        "  ax.set_ylabel('#outputs')"
      ],
      "execution_count": null,
      "outputs": []
    },
    {
      "cell_type": "markdown",
      "metadata": {
        "id": "cyPMH8R9Iepl"
      },
      "source": [
        "# Exercises\n",
        "\n",
        "Here are some ideas to try out:\n",
        "\n",
        "\n",
        "1.   Change the number of inputs and outputs and observe how the run times and overhead factors change for forward and reverse mode.\n",
        "2.   Re-run the same setting a few times. The notebook run times are a little noisy, probably you will get slightly different numbers each time.\n",
        "2.   Change the function `fun` to something you actually want to compute (make sure the function header stays the same if you want to leave the rest of the notebook as is). You will need to use Tapenade to obtain the derivative functions `fun_d` and `fun_b` yourself, as the notebook does not automate this step.\n",
        "\n"
      ]
    }
  ]
}